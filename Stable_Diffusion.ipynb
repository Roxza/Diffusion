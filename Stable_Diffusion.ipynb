{
  "cells": [
    {
      "cell_type": "code",
      "execution_count": 1,
      "metadata": {
        "cellView": "form",
        "colab": {
          "base_uri": "https://localhost:8080/"
        },
        "id": "Yq5fubuhoCSQ",
        "outputId": "4eccb496-982b-459e-9f89-cf2169efb71e"
      },
      "outputs": [
        {
          "output_type": "stream",
          "name": "stdout",
          "text": [
            "Github reposu klonlama işlemi tamamlandı.\n",
            "Model 1/1 indiriliyor: ani-pruned.ckpt\n"
          ]
        },
        {
          "output_type": "stream",
          "name": "stderr",
          "text": [
            "ani-pruned.ckpt: 100%|██████████| 4.27G/4.27G [01:21<00:00, 52.4MB/s]"
          ]
        },
        {
          "output_type": "stream",
          "name": "stdout",
          "text": [
            "ani-pruned.ckpt dosyası tamamen indirildi.\n"
          ]
        },
        {
          "output_type": "stream",
          "name": "stderr",
          "text": [
            "\n"
          ]
        }
      ],
      "source": [
        "#@title Install - Hazırlayan Roxza\n",
        "\n",
        "import os\n",
        "import requests\n",
        "import shutil\n",
        "import tqdm\n",
        "\n",
        "#@markdown Yüklemek istediklerini seç.\n",
        "Repository = True #@param {type:\"boolean\"}\n",
        "Paketler = True #@param {type:\"boolean\"}\n",
        "\n",
        "#@markdown Hazırlanacak modellerini seçin.\n",
        "Anime = True #@param {type:\"boolean\"}\n",
        "EimisRealistic = False #@param {type:\"boolean\"}\n",
        "Eimis = False #@param {type:\"boolean\"}\n",
        "OpenJourney = False #@param {type:\"boolean\"}\n",
        "Waifu = False #@param {type:\"boolean\"}\n",
        "DreamLike = False #@param {type:\"boolean\"}\n",
        "OpenJourneyV2 = False #@param {type:\"boolean\"}\n",
        "Counterfeit = False #@param {type:\"boolean\"}\n",
        "\n",
        "BadPrompt = True\n",
        "StripeStyle = True\n",
        "WlopStyle = True\n",
        "\n",
        "# Git reposunu klonlama\n",
        "if Repository:\n",
        "  os.system('git clone https://github.com/Roxza/stable-diffusion-webui /content/stable-diffusion-webui')\n",
        "  print('Github reposu klonlama işlemi tamamlandı.')\n",
        "\n",
        "# \"requirements.txt\" dosyasındaki paketleri kurma\n",
        "if Paketler:\n",
        "  os.chdir('/content/stable-diffusion-webui')  # Klasöre gidin\n",
        "  os.system('pip install -r requirements.txt')  # Paketleri kurun\n",
        "\n",
        "\n",
        "# Konsolu temizle\n",
        "os.system('clear')\n",
        "\n",
        "# Embed\n",
        "if BadPrompt:\n",
        "  os.system(f\"wget https://huggingface.co/datasets/Nerfgun3/bad_prompt/resolve/main/bad_prompt.pt /content/stable-diffusion-webui\")\n",
        "  os.system(f'mv /content/stable-diffusion-webui/bad_prompt.pt /content/stable-diffusion-webui/embeddings/bad_prompt.pt')\n",
        "if StripeStyle:\n",
        "  os.system(f\"wget https://huggingface.co/datasets/Nerfgun3/stripe_style/resolve/main/stripe_style.pt /content/stable-diffusion-webui\")\n",
        "  os.system(f'mv /content/stable-diffusion-webui/stripe_style.pt /content/stable-diffusion-webui/embeddings/stripe_style.pt')\n",
        "if WlopStyle:\n",
        "  os.system(f\"wget https://huggingface.co/datasets/Nerfgun3/wlop_style/resolve/main/wlop_style.pt /content/stable-diffusion-webui\")\n",
        "  os.system(f'mv /content/stable-diffusion-webui/wlop_style.pt /content/stable-diffusion-webui/embeddings/wlop_style.pt')\n",
        "\n",
        "# Seçilen modellerin listesi\n",
        "selected_models = []\n",
        "\n",
        "if Counterfeit: \n",
        "    selected_models.append({\"url\": \"https://huggingface.co/gsdf/Counterfeit-V2.0/resolve/main/Counterfeit-V2.0.ckpt\", \"name\": \"Counterfeit-V2.0.ckpt\"})\n",
        "if Anime: \n",
        "    selected_models.append({\"url\": \"https://huggingface.co/Roxza/ani/resolve/main/ani-pruned.ckpt\", \"name\": \"ani-pruned.ckpt\"})\n",
        "if EimisRealistic:\n",
        "    selected_models.append({\"url\": \"https://huggingface.co/eimiss/EimisSemiRealistic/resolve/main/EimisSemiRealistic_1-0v.ckpt\", \"name\": \"EimisSemiRealistic_1-0v.ckpt\"})\n",
        "if Eimis:\n",
        "    selected_models.append({\"url\": \"https://huggingface.co/eimiss/EimisAnimeDiffusion_1.0v/resolve/main/EimisAnimeDiffusion_1-0v.ckpt\", \"name\": \"EimisAnimeDiffusion_1-0v.ckpt\"})\n",
        "if Waifu:\n",
        "    selected_models.append({\"url\": \"https://huggingface.co/hakurei/waifu-diffusion-v1-3/resolve/main/wd-v1-3-float16.ckpt\", \"name\": \"wd-v1-3-float16.ckpt\"})\n",
        "if OpenJourney:\n",
        "    selected_models.append({\"url\": \"https://huggingface.co/prompthero/openjourney/resolve/main/mdjrny-v4.ckpt\", \"name\": \"mdjrny-v4.ckpt\"})\n",
        "if DreamLike:\n",
        "    selected_models.append({\"url\": \"https://huggingface.co/dreamlike-art/dreamlike-diffusion-1.0/resolve/main/dreamlike-diffusion-1.0.ckpt\", \"name\": \"dreamlike-diffusion-1.0.ckpt\"})\n",
        "if OpenJourneyV2:\n",
        "    selected_models.append({\"url\": \"https://huggingface.co/prompthero/openjourney-v2/resolve/main/openjourney-v2.ckpt\", \"name\": \"openjourney-v2.ckpt\"})\n",
        "\n",
        "if not selected_models:  # Seçilen modeller listesi boşsa\n",
        "    print('Hiçbir model seçilmedi, işlem iptal edildi.')\n",
        "\n",
        "# Model dosyalarını indirme\n",
        "for i, model in enumerate(selected_models):\n",
        "    model_path = f'/content/stable-diffusion-webui/models/{model[\"name\"]}'\n",
        "    if not os.path.exists(model_path):  # Model dosyası yoksa\n",
        "        print(f'Model {i+1}/{len(selected_models)} indiriliyor: {model[\"name\"]}')\n",
        "        response = requests.get(model['url'], stream=True)\n",
        "        total_size = int(response.headers.get('Content-Length', 0))\n",
        "        if total_size == 0:  # \"Content-Length\" öğesi yoksa\n",
        "            total_size = None  # Indirme yüzdesini gösterme\n",
        "        with open(model_path, 'wb') as f:\n",
        "            with tqdm.tqdm(total=total_size, unit='B', unit_scale=True, desc=model[\"name\"]) as pbar:\n",
        "                for chunk in response.iter_content(chunk_size=1024):\n",
        "                    if chunk:  # Yoksay boş değerler\n",
        "                        f.write(chunk)\n",
        "                        # İndirme yüzdesini güncelle\n",
        "                        pbar.update(len(chunk))\n",
        "        print(f'{model[\"name\"]} dosyası tamamen indirildi.')\n",
        "    else:\n",
        "        print(f'{model[\"name\"]} dosyası zaten mevcut, indirme işlemi atlandı.')\n",
        "      \n",
        "# by roxza\n",
        "#@markdown Bu kullandığınız sistem SD düzenlenmiş ve iyileştirilmiş halidir ve daha çok yeni başlayanlar için uygundur en kısa sürede türkce dil eklenecek ve daha fazla model eklenip burası zenginleştirilecektir ayriyetten Anime modelini kullanabilirsiniz eğer daha çok midjourney yakın sonuçlar almak için OpenJourneyV2 kullanabilirsiniz. Benle iletişime geçmek için roxza@duck.com kullanabilirsiniz."
      ]
    },
    {
      "cell_type": "code",
      "execution_count": null,
      "metadata": {
        "cellView": "form",
        "colab": {
          "background_save": true,
          "base_uri": "https://localhost:8080/"
        },
        "id": "NQwwguMNoU5p",
        "outputId": "50cd8b8e-059f-46f6-9909-b9412077b061"
      },
      "outputs": [
        {
          "output_type": "stream",
          "name": "stdout",
          "text": [
            "/content\n",
            "Python 3.8.10 (default, Nov 14 2022, 12:59:47) \n",
            "[GCC 9.4.0]\n",
            "Commit hash: 83299c1cc3e4745c8226b521df7ed0d8e13cd3f8\n",
            "Installing clip\n",
            "Installing open_clip\n",
            "Cloning Stable Diffusion into repositories/stable-diffusion-stability-ai...\n",
            "Cloning Taming Transformers into repositories/taming-transformers...\n",
            "Cloning K-diffusion into repositories/k-diffusion...\n",
            "Cloning CodeFormer into repositories/CodeFormer...\n",
            "Cloning BLIP into repositories/BLIP...\n",
            "Installing requirements for CodeFormer\n",
            "Installing requirements for Web UI\n",
            "Launching Web UI with arguments: --share --disable-console-progressbars --enable-console-prompts --ui-config-file /content/stable-diffusion-webui/ui-config.json --ui-settings-file /content/stable-diffusion-webui/config.json --cors-allow-origins google.com --no-progressbar-hiding\n",
            "No module 'xformers'. Proceeding without it.\n",
            "Moving ani-pruned.ckpt from /content/stable-diffusion-webui/models to /content/stable-diffusion-webui/models/Stable-diffusion.\n",
            "LatentDiffusion: Running in eps-prediction mode\n",
            "DiffusionWrapper has 859.52 M params.\n",
            "Downloading: 100% 939k/939k [00:00<00:00, 1.88MB/s]\n",
            "Downloading: 100% 512k/512k [00:00<00:00, 1.52MB/s]\n",
            "Downloading: 100% 389/389 [00:00<00:00, 396kB/s]\n",
            "Downloading: 100% 905/905 [00:00<00:00, 717kB/s]\n",
            "Downloading: 100% 4.41k/4.41k [00:00<00:00, 4.21MB/s]\n",
            "Calculating sha256 for /content/stable-diffusion-webui/models/Stable-diffusion/ani-pruned.ckpt: c4ff51422ad3292331b4cf4ac3f54eeafd923fa9b82450efba38927917482ce0\n",
            "Loading weights [c4ff51422a] from /content/stable-diffusion-webui/models/Stable-diffusion/ani-pruned.ckpt\n",
            "Applying cross attention optimization (Doggettx).\n",
            "Textual inversion embeddings loaded(3): stripe_style, bad_prompt, wlop_style\n",
            "Model loaded in 46.6s (5.9s create model, 39.9s load weights).\n",
            "Checkpoint ani-pruned.ckpt [c4ff51422a] not found; loading fallback ani-pruned.ckpt [c4ff51422a]\n",
            "Running on local URL:  http://127.0.0.1:7860\n",
            "Running on public URL: https://4faf8e2b-51a8-428a.gradio.live\n",
            "\n",
            "This share link expires in 72 hours. For free permanent hosting and GPU upgrades (NEW!), check out Spaces: https://huggingface.co/spaces\n"
          ]
        }
      ],
      "source": [
        "#@title Start\n",
        "%cd /content/stable-diffusion-webui\n",
        "\n",
        "!python launch.py --share --disable-console-progressbars --enable-console-prompts --ui-config-file /content/stable-diffusion-webui/ui-config.json --ui-settings-file /content/stable-diffusion-webui/config.json --cors-allow-origins google.com --no-progressbar-hiding"
      ]
    },
    {
      "cell_type": "code",
      "execution_count": null,
      "metadata": {
        "cellView": "form",
        "id": "hRvywOPxx75K"
      },
      "outputs": [],
      "source": [
        "#@title Output Download\n",
        "\n",
        "import os\n",
        "import zipfile\n",
        "\n",
        "folder_path = '/content/stable-diffusion-webui/outputs/txt2img-images'\n",
        "folder_name = os.path.basename(folder_path)\n",
        "\n",
        "zip_filename = '{}.zip'.format(folder_name)\n",
        "zipf = zipfile.ZipFile(zip_filename, 'w', zipfile.ZIP_DEFLATED)\n",
        "for root, dirs, files in os.walk(folder_path):\n",
        "    for file in files:\n",
        "        zipf.write(os.path.join(root, file))\n",
        "zipf.close()\n",
        "\n",
        "from google.colab import files\n",
        "files.download(zip_filename)"
      ]
    }
  ],
  "metadata": {
    "accelerator": "GPU",
    "colab": {
      "provenance": []
    },
    "gpuClass": "standard",
    "kernelspec": {
      "display_name": "Python 3",
      "name": "python3"
    },
    "language_info": {
      "name": "python"
    }
  },
  "nbformat": 4,
  "nbformat_minor": 0
}
